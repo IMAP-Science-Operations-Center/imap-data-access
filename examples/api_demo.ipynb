{
 "cells": [
  {
   "cell_type": "markdown",
   "id": "f28c0487",
   "metadata": {
    "collapsed": false,
    "jupyter": {
     "outputs_hidden": false
    },
    "pycharm": {
     "name": "#%% md\n"
    }
   },
   "source": [
    "# IMAP Data Access API\n",
    "\n",
    "The IMAP SDC provides a Data Access API to **query**, **download**, and **upload** data. There are three ways to use the API:\n",
    "\n",
    "1. The `imap-data-access` command-line utility\n",
    "2. The `imap_data_access` python package\n",
    "3. Calls to the REST API directly\n",
    "\n",
    "This notebook provies instructions and examples of how to use the command-line utility and python package. *For information on how to use the REST API directly, see https://imap-processing.readthedocs.io/en/latest/data-access/index.html*"
   ]
  },
  {
   "cell_type": "markdown",
   "id": "454b8b53",
   "metadata": {
    "collapsed": false,
    "jupyter": {
     "outputs_hidden": false
    },
    "pycharm": {
     "name": "#%% md\n"
    }
   },
   "source": [
    "## Data Directory\n",
    "\n",
    "Before using the API, it is important to note that the folder structure for data files within the IMAP SDC is rigidly defined, so the data access will mimic that structure to make sure all data is stored in the same heirarchical structure as the SDC. This will enable seamless transition between a user's local system and the SDC.\n",
    "\n",
    "The directory structure is as follows:\n",
    "\n",
    "```\n",
    "<IMAP_DATA_DIR>/\n",
    "  imap/\n",
    "    <instrument>/\n",
    "      <data_level>/\n",
    "        <year>/\n",
    "          <month>/\n",
    "            <filename>\n",
    "```\n",
    "\n",
    "for example:\n",
    "\n",
    "```\n",
    "/data/\n",
    "  imap/\n",
    "    swe/\n",
    "      l0/\n",
    "        2024/\n",
    "          01/\n",
    "            imap_swe_l0_sci_20240105_v001.pkts\n",
    "```\n",
    "\n",
    "By default, the `<IMAP_DATA_DIR>` is the user's current working directory. However, this can be changed by setting the `IMAP_DATA_DIR` environment variable:"
   ]
  },
  {
   "cell_type": "code",
   "execution_count": 1,
   "id": "34486463",
   "metadata": {
    "collapsed": false,
    "jupyter": {
     "outputs_hidden": false
    },
    "pycharm": {
     "name": "#%%\n"
    }
   },
   "outputs": [
    {
     "name": "stdout",
     "output_type": "stream",
     "text": [
      "env: IMAP_DATA_DIR=/Users/mabo8927/imap_data\n",
      "/Users/mabo8927/imap_data\n"
     ]
    }
   ],
   "source": [
    "!mkdir -p /Users/mabo8927/imap_data/\n",
    "%env IMAP_DATA_DIR=/Users/mabo8927/imap_data\n",
    "!echo $IMAP_DATA_DIR"
   ]
  },
  {
   "cell_type": "markdown",
   "id": "5dc33983",
   "metadata": {
    "collapsed": false,
    "jupyter": {
     "outputs_hidden": false
    },
    "pycharm": {
     "name": "#%% md\n"
    }
   },
   "source": [
    "## Installation\n",
    "\n",
    "The API can be installed via `pip`:"
   ]
  },
  {
   "cell_type": "code",
   "execution_count": 2,
   "id": "2e21f9fa",
   "metadata": {
    "collapsed": false,
    "jupyter": {
     "outputs_hidden": false
    },
    "pycharm": {
     "name": "#%%\n"
    }
   },
   "outputs": [
    {
     "name": "stdout",
     "output_type": "stream",
     "text": [
      "Collecting imap-data-access\n",
      "  Using cached imap_data_access-0.13.1-py3-none-any.whl\n",
      "Installing collected packages: imap-data-access\n",
      "Successfully installed imap-data-access-0.13.1\n",
      "\n",
      "\u001B[1m[\u001B[0m\u001B[34;49mnotice\u001B[0m\u001B[1;39;49m]\u001B[0m\u001B[39;49m A new release of pip is available: \u001B[0m\u001B[31;49m24.3.1\u001B[0m\u001B[39;49m -> \u001B[0m\u001B[32;49m25.0.1\u001B[0m\n",
      "\u001B[1m[\u001B[0m\u001B[34;49mnotice\u001B[0m\u001B[1;39;49m]\u001B[0m\u001B[39;49m To update, run: \u001B[0m\u001B[32;49mpip install --upgrade pip\u001B[0m\n",
      "imap-data-access 0.13.1\n"
     ]
    }
   ],
   "source": [
    "!pip install imap-data-access\n",
    "!imap-data-access --version"
   ]
  },
  {
   "cell_type": "markdown",
   "id": "3cd2051d",
   "metadata": {
    "collapsed": false,
    "jupyter": {
     "outputs_hidden": false
    },
    "pycharm": {
     "name": "#%% md\n"
    }
   },
   "source": [
    "We leave it as an exercise to the user to install the package into their software environment of choice."
   ]
  },
  {
   "cell_type": "markdown",
   "id": "a354d555",
   "metadata": {
    "collapsed": false,
    "jupyter": {
     "outputs_hidden": false
    },
    "pycharm": {
     "name": "#%% md\n"
    }
   },
   "source": [
    "## Command Line Utility\n",
    "\n",
    "The following section shows examples of how to use the API via the `imap-data-access` command line utility."
   ]
  },
  {
   "cell_type": "code",
   "execution_count": 3,
   "id": "b557418d",
   "metadata": {
    "collapsed": false,
    "jupyter": {
     "outputs_hidden": false
    },
    "pycharm": {
     "name": "#%%\n"
    }
   },
   "outputs": [
    {
     "name": "stdout",
     "output_type": "stream",
     "text": [
      "usage: imap-data-access [-h] [--version] [--api-key API_KEY]\n",
      "                        [--data-dir DATA_DIR] [--url URL] [--debug] [-v]\n",
      "                        {download,query,upload} ...\n",
      "\n",
      "This command line program accesses the IMAP SDC APIs to query, download, and\n",
      "upload data files.\n",
      "\n",
      "positional arguments:\n",
      "  {download,query,upload}\n",
      "    download            Download a file from the IMAP SDC to the locally\n",
      "                        configured data directory. Run 'download -h' for more\n",
      "                        information.\n",
      "    query               Query the IMAP SDC for files matching the query\n",
      "                        parameters. The query parameters are optional, but at\n",
      "                        least one must be provided. Run 'query -h' for more\n",
      "                        information.\n",
      "    upload              Upload a file to the IMAP SDC. This must be the full\n",
      "                        path to the file. E.g. imap/mag/l0/2025/01/imap_mag_l0\n",
      "                        _raw_20250101_v001.pkts. Run 'upload -h' for more\n",
      "                        information.\n",
      "\n",
      "optional arguments:\n",
      "  -h, --help            show this help message and exit\n",
      "  --version             Show programs version number and exit. No other\n",
      "                        parameters needed.\n",
      "  --api-key API_KEY     API key to authenticate with the IMAP SDC. This can\n",
      "                        also be set using the IMAP_API_KEY environment\n",
      "                        variable. It is only necessary for uploading files.\n",
      "  --data-dir DATA_DIR   Directory to use for reading and writing IMAP data.\n",
      "                        The default is a 'data/' folder in the current working\n",
      "                        directory. This can also be set using the\n",
      "                        IMAP_DATA_DIR environment variable.\n",
      "  --url URL             URL of the IMAP SDC API. The default is\n",
      "                        https://api.dev.imap-mission.com. This can also be set\n",
      "                        using the IMAP_DATA_ACCESS_URL environment variable.\n",
      "  --debug               Print lots of debugging statements.\n",
      "  -v, --verbose         Add verbose output\n"
     ]
    }
   ],
   "source": [
    "# Show help documentation\n",
    "!imap-data-access -h"
   ]
  },
  {
   "cell_type": "markdown",
   "id": "763a463b",
   "metadata": {
    "collapsed": false,
    "jupyter": {
     "outputs_hidden": false
    },
    "pycharm": {
     "name": "#%% md\n"
    }
   },
   "source": [
    "#### Querying"
   ]
  },
  {
   "cell_type": "code",
   "execution_count": 4,
   "id": "13b1eb9f",
   "metadata": {
    "collapsed": false,
    "jupyter": {
     "outputs_hidden": false
    },
    "pycharm": {
     "name": "#%%\n"
    }
   },
   "outputs": [
    {
     "name": "stdout",
     "output_type": "stream",
     "text": [
      "usage: imap-data-access query [-h]\n",
      "                              [--instrument {codice,glows,hi,hit,idex,lo,mag,swapi,swe,ultra}]\n",
      "                              [--data-level DATA_LEVEL]\n",
      "                              [--descriptor DESCRIPTOR]\n",
      "                              [--start-date START_DATE] [--end-date END_DATE]\n",
      "                              [--repointing REPOINTING] [--version VERSION]\n",
      "                              [--extension EXTENSION]\n",
      "                              [--output-format {table,json}]\n",
      "                              [--filename FILENAME]\n",
      "\n",
      "Query the IMAP SDC for files matching the query parameters. The query\n",
      "parameters are optional, but at least one must be provided.\n",
      "\n",
      "optional arguments:\n",
      "  -h, --help            show this help message and exit\n",
      "  --instrument {codice,glows,hi,hit,idex,lo,mag,swapi,swe,ultra}\n",
      "                        Name of the instrument\n",
      "  --data-level DATA_LEVEL\n",
      "                        Data level of the product (l0, l1a, l2, etc.)\n",
      "  --descriptor DESCRIPTOR\n",
      "                        Descriptor of the product (raw, burst, etc.)\n",
      "  --start-date START_DATE\n",
      "                        Start date for files in YYYYMMDD format\n",
      "  --end-date END_DATE   End date for a range of file timestamps in YYYYMMDD\n",
      "                        format\n",
      "  --repointing REPOINTING\n",
      "                        Repointing number (int)\n",
      "  --version VERSION     Version of the product in the format 'v001'. Must have\n",
      "                        one other parameter to run. Passing 'latest' will\n",
      "                        return latest version of a file\n",
      "  --extension EXTENSION\n",
      "                        File extension (cdf, pkts)\n",
      "  --output-format {table,json}\n",
      "                        How to format the output, default is 'table'\n",
      "  --filename FILENAME   Name of a file to be searched for. For convention\n",
      "                        standards see https://imap-\n",
      "                        processing.readthedocs.io/en/latest/development-\n",
      "                        guide/style-guide/naming-conventions.html#data-\n",
      "                        product-file-naming-conventions\n"
     ]
    }
   ],
   "source": [
    "# Show query help documentation\n",
    "!imap-data-access query -h"
   ]
  },
  {
   "cell_type": "code",
   "execution_count": 5,
   "id": "1de490c4",
   "metadata": {
    "collapsed": false,
    "jupyter": {
     "outputs_hidden": false
    },
    "pycharm": {
     "name": "#%%\n"
    }
   },
   "outputs": [
    {
     "name": "stdout",
     "output_type": "stream",
     "text": [
      "Found [23] matching files\n",
      "|---------------------------------------------------------------------------------------------------------------|\n",
      "| Instrument | Data Level | Descriptor | Start Date | Repointing | Version | Filename                           |\n",
      "|---------------------------------------------------------------------------------------------------------------|\n",
      "| swe        | l0         | raw        | 20240510   | None       | v001    | imap_swe_l0_raw_20240510_v001.pkts |\n",
      "| swe        | l0         | raw        | 20240510   | None       | v002    | imap_swe_l0_raw_20240510_v002.pkts |\n",
      "| swe        | l0         | raw        | 20240510   | None       | v007    | imap_swe_l0_raw_20240510_v007.pkts |\n",
      "| swe        | l0         | raw        | 20240510   | None       | v008    | imap_swe_l0_raw_20240510_v008.pkts |\n",
      "| swe        | l0         | raw        | 20240510   | None       | v009    | imap_swe_l0_raw_20240510_v009.pkts |\n",
      "| swe        | l0         | raw        | 20240510   | None       | v010    | imap_swe_l0_raw_20240510_v010.pkts |\n",
      "| swe        | l0         | raw        | 20240510   | None       | v011    | imap_swe_l0_raw_20240510_v011.pkts |\n",
      "| swe        | l0         | raw        | 20240510   | None       | v012    | imap_swe_l0_raw_20240510_v012.pkts |\n",
      "| swe        | l0         | raw        | 20241018   | None       | v000    | imap_swe_l0_raw_20241018_v000.pkts |\n",
      "| swe        | l0         | raw        | 20241122   | None       | v000    | imap_swe_l0_raw_20241122_v000.pkts |\n",
      "| swe        | l0         | raw        | 20241122   | None       | v001    | imap_swe_l0_raw_20241122_v001.pkts |\n",
      "| swe        | l0         | raw        | 20241212   | None       | v000    | imap_swe_l0_raw_20241212_v000.pkts |\n",
      "| swe        | l1a        | sci        | 20240510   | None       | v001    | imap_swe_l1a_sci_20240510_v001.cdf |\n",
      "| swe        | l1a        | sci        | 20240510   | None       | v002    | imap_swe_l1a_sci_20240510_v002.cdf |\n",
      "| swe        | l1a        | sci        | 20240510   | None       | v012    | imap_swe_l1a_sci_20240510_v012.cdf |\n",
      "| swe        | l1a        | sci        | 20250129   | None       | v000    | imap_swe_l1a_sci_20250129_v000.cdf |\n",
      "| swe        | l1a        | sci        | 20250514   | None       | v000    | imap_swe_l1a_sci_20250514_v000.cdf |\n",
      "| swe        | l1b        | sci        | 20240510   | None       | v001    | imap_swe_l1b_sci_20240510_v001.cdf |\n",
      "| swe        | l1b        | sci        | 20240510   | None       | v002    | imap_swe_l1b_sci_20240510_v002.cdf |\n",
      "| swe        | l1b        | sci        | 20240510   | None       | v003    | imap_swe_l1b_sci_20240510_v003.cdf |\n",
      "| swe        | l1b        | sci        | 20240510   | None       | v012    | imap_swe_l1b_sci_20240510_v012.cdf |\n",
      "| swe        | l1b        | sci        | 20250129   | None       | v000    | imap_swe_l1b_sci_20250129_v000.cdf |\n",
      "| swe        | l1b        | sci        | 20250514   | None       | v000    | imap_swe_l1b_sci_20250514_v000.cdf |\n",
      "|---------------------------------------------------------------------------------------------------------------|\n"
     ]
    }
   ],
   "source": [
    "# Query with a single parameter\n",
    "!imap-data-access query --instrument swe"
   ]
  },
  {
   "cell_type": "code",
   "execution_count": 6,
   "id": "1553a3f6",
   "metadata": {
    "collapsed": false,
    "jupyter": {
     "outputs_hidden": false
    },
    "pycharm": {
     "name": "#%%\n"
    }
   },
   "outputs": [
    {
     "name": "stdout",
     "output_type": "stream",
     "text": [
      "Found [4] matching files\n",
      "|---------------------------------------------------------------------------------------------------------------|\n",
      "| Instrument | Data Level | Descriptor | Start Date | Repointing | Version | Filename                           |\n",
      "|---------------------------------------------------------------------------------------------------------------|\n",
      "| swe        | l1b        | sci        | 20240510   | None       | v001    | imap_swe_l1b_sci_20240510_v001.cdf |\n",
      "| swe        | l1b        | sci        | 20240510   | None       | v002    | imap_swe_l1b_sci_20240510_v002.cdf |\n",
      "| swe        | l1b        | sci        | 20240510   | None       | v003    | imap_swe_l1b_sci_20240510_v003.cdf |\n",
      "| swe        | l1b        | sci        | 20240510   | None       | v012    | imap_swe_l1b_sci_20240510_v012.cdf |\n",
      "|---------------------------------------------------------------------------------------------------------------|\n"
     ]
    }
   ],
   "source": [
    "# Query with multiple parameters\n",
    "!imap-data-access query --instrument swe --data-level l1b --start-date 20240510 --end-date 20240510"
   ]
  },
  {
   "cell_type": "code",
   "execution_count": 7,
   "id": "0cb7f792",
   "metadata": {
    "collapsed": false,
    "jupyter": {
     "outputs_hidden": false
    },
    "pycharm": {
     "name": "#%%\n"
    }
   },
   "outputs": [
    {
     "name": "stdout",
     "output_type": "stream",
     "text": [
      "[{'file_path': 'imap/swe/l1b/2024/05/imap_swe_l1b_sci_20240510_v001.cdf', 'instrument': 'swe', 'data_level': 'l1b', 'descriptor': 'sci', 'start_date': '20240510', 'repointing': None, 'version': 'v001', 'extension': 'cdf', 'ingestion_date': '2024-10-07 17:06:50'}, {'file_path': 'imap/swe/l1b/2024/05/imap_swe_l1b_sci_20240510_v002.cdf', 'instrument': 'swe', 'data_level': 'l1b', 'descriptor': 'sci', 'start_date': '20240510', 'repointing': None, 'version': 'v002', 'extension': 'cdf', 'ingestion_date': '2024-10-07 20:07:44'}, {'file_path': 'imap/swe/l1b/2024/05/imap_swe_l1b_sci_20240510_v003.cdf', 'instrument': 'swe', 'data_level': 'l1b', 'descriptor': 'sci', 'start_date': '20240510', 'repointing': None, 'version': 'v003', 'extension': 'cdf', 'ingestion_date': '2024-11-08 18:26:10'}, {'file_path': 'imap/swe/l1b/2024/05/imap_swe_l1b_sci_20240510_v012.cdf', 'instrument': 'swe', 'data_level': 'l1b', 'descriptor': 'sci', 'start_date': '20240510', 'repointing': None, 'version': 'v012', 'extension': 'cdf', 'ingestion_date': '2024-12-16 22:52:21'}]\n"
     ]
    }
   ],
   "source": [
    "# Change the output format\n",
    "!imap-data-access query --instrument swe --data-level l1b --start-date 20240510 --end-date 20240510 --output-format json"
   ]
  },
  {
   "cell_type": "code",
   "execution_count": 8,
   "id": "4ebd9c2c-448a-4749-90e3-91124334bc4b",
   "metadata": {},
   "outputs": [
    {
     "name": "stdout",
     "output_type": "stream",
     "text": [
      "Found [1] matching files\n",
      "|---------------------------------------------------------------------------------------------------------------|\n",
      "| Instrument | Data Level | Descriptor | Start Date | Repointing | Version | Filename                           |\n",
      "|---------------------------------------------------------------------------------------------------------------|\n",
      "| swe        | l1b        | sci        | 20240510   | None       | v012    | imap_swe_l1b_sci_20240510_v012.cdf |\n",
      "|---------------------------------------------------------------------------------------------------------------|\n"
     ]
    }
   ],
   "source": [
    "# Query based on a filename\n",
    "!imap-data-access query --filename imap_swe_l1b_sci_20240510_v012.cdf"
   ]
  },
  {
   "cell_type": "markdown",
   "id": "bcfdad53",
   "metadata": {
    "collapsed": false,
    "jupyter": {
     "outputs_hidden": false
    },
    "pycharm": {
     "name": "#%% md\n"
    }
   },
   "source": [
    "#### Downloading"
   ]
  },
  {
   "cell_type": "code",
   "execution_count": 9,
   "id": "95605dca",
   "metadata": {
    "collapsed": false,
    "jupyter": {
     "outputs_hidden": false
    },
    "pycharm": {
     "name": "#%%\n"
    }
   },
   "outputs": [
    {
     "name": "stdout",
     "output_type": "stream",
     "text": [
      "usage: imap-data-access download [-h] file_path\n",
      "\n",
      "Download a file from the IMAP SDC to the locally configured data directory.\n",
      "\n",
      "positional arguments:\n",
      "  file_path   This must be the full path to the file. E.g.\n",
      "              imap/mag/l0/2025/01/imap_mag_l0_raw_20250101_v001.pkts\n",
      "\n",
      "optional arguments:\n",
      "  -h, --help  show this help message and exit\n"
     ]
    }
   ],
   "source": [
    "# Show download help documentation\n",
    "!imap-data-access download -h"
   ]
  },
  {
   "cell_type": "markdown",
   "id": "6d8a3bbb-0758-4aba-aaf7-1e65d6ee7150",
   "metadata": {},
   "source": [
    "##### Science Files"
   ]
  },
  {
   "cell_type": "code",
   "execution_count": 10,
   "id": "aff443b9",
   "metadata": {
    "collapsed": false,
    "jupyter": {
     "outputs_hidden": false
    },
    "pycharm": {
     "name": "#%%\n"
    }
   },
   "outputs": [
    {
     "name": "stdout",
     "output_type": "stream",
     "text": [
      "Successfully downloaded the file to: /Users/mabo8927/imap_data/imap/swe/l1b/2024/05/imap_swe_l1b_sci_20240510_v012.cdf\n",
      "-rw-r--r--  1 mabo8927  2260  304761 Feb 18 14:09 /Users/mabo8927/imap_data/imap/swe/l1b/2024/05/imap_swe_l1b_sci_20240510_v012.cdf\n"
     ]
    }
   ],
   "source": [
    "# Download a science file\n",
    "!imap-data-access download imap_swe_l1b_sci_20240510_v012.cdf\n",
    "\n",
    "# Check to see that the file exists\n",
    "!ls -lt $IMAP_DATA_DIR/imap/swe/l1b/2024/05/imap_swe_l1b_sci_20240510_v012.cdf"
   ]
  },
  {
   "cell_type": "markdown",
   "id": "04befc41-2e35-486c-a27f-2965f203f2c3",
   "metadata": {},
   "source": [
    "##### Ancillary Files"
   ]
  },
  {
   "cell_type": "code",
   "execution_count": 12,
   "id": "600ed5bb-2d69-4d8e-810e-090e764e392a",
   "metadata": {
    "pycharm": {
     "name": "#%%\n"
    }
   },
   "outputs": [
    {
     "name": "stdout",
     "output_type": "stream",
     "text": [
      "Successfully downloaded the file to: /Users/mabo8927/imap_data/imap/ancillary/mag/imap_mag_calibration_20240229_v001.cdf\n",
      "-rw-r--r--  1 mabo8927  2260  3269 Feb 18 14:10 /Users/mabo8927/imap_data/imap/ancillary/mag/imap_mag_calibration_20240229_v001.cdf\n"
     ]
    }
   ],
   "source": [
    "# Download an ancillary file\n",
    "!imap-data-access download imap_mag_calibration_20240229_v001.cdf\n",
    "\n",
    "# Check to see that the file exists\n",
    "!ls -lt $IMAP_DATA_DIR/imap/ancillary/mag/imap_mag_calibration_20240229_v001.cdf"
   ]
  },
  {
   "cell_type": "markdown",
   "id": "44bf4ae1",
   "metadata": {
    "collapsed": false,
    "jupyter": {
     "outputs_hidden": false
    },
    "pycharm": {
     "name": "#%% md\n"
    }
   },
   "source": [
    "#### Uploading"
   ]
  },
  {
   "cell_type": "code",
   "execution_count": 13,
   "id": "8d8dc814",
   "metadata": {
    "collapsed": false,
    "jupyter": {
     "outputs_hidden": false
    },
    "pycharm": {
     "name": "#%%\n"
    }
   },
   "outputs": [
    {
     "name": "stdout",
     "output_type": "stream",
     "text": [
      "usage: imap-data-access upload [-h] file_path\n",
      "\n",
      "Upload a file to the IMAP SDC. This must be the full path to the file. E.g.\n",
      "imap/mag/l0/2025/01/imap_mag_l0_raw_20250101_v001.pkts.\n",
      "\n",
      "positional arguments:\n",
      "  file_path   This must be the full path to the file. E.g.\n",
      "              imap/mag/l0/2025/01/imap_mag_l0_raw_20250101_v001.pkts\n",
      "\n",
      "optional arguments:\n",
      "  -h, --help  show this help message and exit\n"
     ]
    }
   ],
   "source": [
    "# Show upload help documentation\n",
    "!imap-data-access upload -h"
   ]
  },
  {
   "cell_type": "code",
   "execution_count": 14,
   "id": "07dc3b32",
   "metadata": {
    "collapsed": false,
    "jupyter": {
     "outputs_hidden": false
    },
    "pycharm": {
     "name": "#%%\n"
    }
   },
   "outputs": [
    {
     "name": "stdout",
     "output_type": "stream",
     "text": [
      "Found [8] matching files\n",
      "|------------------------------------------------------------------------------------------------------------------|\n",
      "| Instrument | Data Level | Descriptor | Start Date | Repointing | Version | Filename                              |\n",
      "|------------------------------------------------------------------------------------------------------------------|\n",
      "| codice     | l0         | raw        | 20241122   | None       | v000    | imap_codice_l0_raw_20241122_v000.pkts |\n",
      "| codice     | l0         | raw        | 20241212   | None       | v000    | imap_codice_l0_raw_20241212_v000.pkts |\n",
      "| codice     | l0         | raw        | 20250130   | None       | v000    | imap_codice_l0_raw_20250130_v000.pkts |\n",
      "| codice     | l0         | raw        | 20250218   | None       | v001    | imap_codice_l0_raw_20250218_v001.pkts |\n",
      "| codice     | l0         | raw        | 20250219   | None       | v001    | imap_codice_l0_raw_20250219_v001.pkts |\n",
      "| codice     | l0         | raw        | 20250220   | None       | v001    | imap_codice_l0_raw_20250220_v001.pkts |\n",
      "| codice     | l0         | raw        | 20250221   | None       | v001    | imap_codice_l0_raw_20250221_v001.pkts |\n",
      "| codice     | l0         | raw        | 20241110   | None       | v001    | imap_codice_l0_raw_20241110_v001.pkts |\n",
      "|------------------------------------------------------------------------------------------------------------------|\n"
     ]
    }
   ],
   "source": [
    "# Show the current CoDICE files to see what is there\n",
    "!imap-data-access query --instrument codice --data-level l0"
   ]
  },
  {
   "cell_type": "code",
   "execution_count": 15,
   "id": "8ac3f473",
   "metadata": {
    "collapsed": false,
    "jupyter": {
     "outputs_hidden": false
    },
    "pycharm": {
     "name": "#%%\n"
    }
   },
   "outputs": [
    {
     "name": "stdout",
     "output_type": "stream",
     "text": [
      "Successfully uploaded the file to the IMAP SDC\n"
     ]
    }
   ],
   "source": [
    "# Upload the file\n",
    "!imap-data-access upload $IMAP_DATA_DIR/imap_codice_l0_raw_20250222_v001.pkts"
   ]
  },
  {
   "cell_type": "code",
   "execution_count": 16,
   "id": "4d8c2215",
   "metadata": {
    "collapsed": false,
    "jupyter": {
     "outputs_hidden": false
    },
    "pycharm": {
     "name": "#%%\n"
    }
   },
   "outputs": [
    {
     "name": "stdout",
     "output_type": "stream",
     "text": [
      "Found [9] matching files\n",
      "|------------------------------------------------------------------------------------------------------------------|\n",
      "| Instrument | Data Level | Descriptor | Start Date | Repointing | Version | Filename                              |\n",
      "|------------------------------------------------------------------------------------------------------------------|\n",
      "| codice     | l0         | raw        | 20241122   | None       | v000    | imap_codice_l0_raw_20241122_v000.pkts |\n",
      "| codice     | l0         | raw        | 20241212   | None       | v000    | imap_codice_l0_raw_20241212_v000.pkts |\n",
      "| codice     | l0         | raw        | 20250130   | None       | v000    | imap_codice_l0_raw_20250130_v000.pkts |\n",
      "| codice     | l0         | raw        | 20250218   | None       | v001    | imap_codice_l0_raw_20250218_v001.pkts |\n",
      "| codice     | l0         | raw        | 20250219   | None       | v001    | imap_codice_l0_raw_20250219_v001.pkts |\n",
      "| codice     | l0         | raw        | 20250220   | None       | v001    | imap_codice_l0_raw_20250220_v001.pkts |\n",
      "| codice     | l0         | raw        | 20250221   | None       | v001    | imap_codice_l0_raw_20250221_v001.pkts |\n",
      "| codice     | l0         | raw        | 20250222   | None       | v001    | imap_codice_l0_raw_20250222_v001.pkts |\n",
      "| codice     | l0         | raw        | 20241110   | None       | v001    | imap_codice_l0_raw_20241110_v001.pkts |\n",
      "|------------------------------------------------------------------------------------------------------------------|\n"
     ]
    }
   ],
   "source": [
    "# Check the CoDICE files to see that it was uploaded\n",
    "!imap-data-access query --instrument codice --data-level l0"
   ]
  },
  {
   "cell_type": "markdown",
   "id": "44f640d3",
   "metadata": {
    "collapsed": false,
    "jupyter": {
     "outputs_hidden": false
    },
    "pycharm": {
     "name": "#%% md\n"
    }
   },
   "source": [
    "## Python Package\n",
    "The following section shows examples of how to use the API via the `imap_data_access` Python package."
   ]
  },
  {
   "cell_type": "code",
   "execution_count": 17,
   "id": "20299694",
   "metadata": {
    "collapsed": false,
    "jupyter": {
     "outputs_hidden": false
    },
    "pycharm": {
     "name": "#%%\n"
    }
   },
   "outputs": [],
   "source": [
    "# import the package\n",
    "import imap_data_access"
   ]
  },
  {
   "cell_type": "markdown",
   "id": "7f6610a1",
   "metadata": {
    "collapsed": false,
    "jupyter": {
     "outputs_hidden": false
    },
    "pycharm": {
     "name": "#%% md\n"
    }
   },
   "source": [
    "The `<IMAP_DATA_DIR>` can be set via the `config` dictionary:"
   ]
  },
  {
   "cell_type": "code",
   "execution_count": 18,
   "id": "713656c4",
   "metadata": {
    "collapsed": false,
    "jupyter": {
     "outputs_hidden": false
    },
    "pycharm": {
     "name": "#%%\n"
    }
   },
   "outputs": [],
   "source": [
    "from pathlib import Path\n",
    "\n",
    "imap_data_access.config[\"DATA_DIR\"] = Path.home() / \"imap_data\""
   ]
  },
  {
   "cell_type": "markdown",
   "id": "cd85b46c",
   "metadata": {
    "collapsed": false,
    "jupyter": {
     "outputs_hidden": false
    },
    "pycharm": {
     "name": "#%% md\n"
    }
   },
   "source": [
    "#### Querying"
   ]
  },
  {
   "cell_type": "code",
   "execution_count": 19,
   "id": "1ebe63c4",
   "metadata": {
    "collapsed": false,
    "jupyter": {
     "outputs_hidden": false
    },
    "pycharm": {
     "name": "#%%\n"
    }
   },
   "outputs": [
    {
     "name": "stdout",
     "output_type": "stream",
     "text": [
      "{'file_path': 'imap/swe/l0/2024/05/imap_swe_l0_raw_20240510_v001.pkts', 'instrument': 'swe', 'data_level': 'l0', 'descriptor': 'raw', 'start_date': '20240510', 'repointing': None, 'version': 'v001', 'extension': 'pkts', 'ingestion_date': '2024-10-07 17:05:14'}\n",
      "{'file_path': 'imap/swe/l0/2024/05/imap_swe_l0_raw_20240510_v002.pkts', 'instrument': 'swe', 'data_level': 'l0', 'descriptor': 'raw', 'start_date': '20240510', 'repointing': None, 'version': 'v002', 'extension': 'pkts', 'ingestion_date': '2024-10-07 20:06:01'}\n",
      "{'file_path': 'imap/swe/l0/2024/05/imap_swe_l0_raw_20240510_v007.pkts', 'instrument': 'swe', 'data_level': 'l0', 'descriptor': 'raw', 'start_date': '20240510', 'repointing': None, 'version': 'v007', 'extension': 'pkts', 'ingestion_date': '2024-12-06 18:31:33'}\n",
      "{'file_path': 'imap/swe/l0/2024/05/imap_swe_l0_raw_20240510_v008.pkts', 'instrument': 'swe', 'data_level': 'l0', 'descriptor': 'raw', 'start_date': '20240510', 'repointing': None, 'version': 'v008', 'extension': 'pkts', 'ingestion_date': '2024-12-06 18:41:11'}\n",
      "{'file_path': 'imap/swe/l0/2024/05/imap_swe_l0_raw_20240510_v009.pkts', 'instrument': 'swe', 'data_level': 'l0', 'descriptor': 'raw', 'start_date': '20240510', 'repointing': None, 'version': 'v009', 'extension': 'pkts', 'ingestion_date': '2024-12-06 18:47:41'}\n",
      "{'file_path': 'imap/swe/l0/2024/05/imap_swe_l0_raw_20240510_v010.pkts', 'instrument': 'swe', 'data_level': 'l0', 'descriptor': 'raw', 'start_date': '20240510', 'repointing': None, 'version': 'v010', 'extension': 'pkts', 'ingestion_date': '2024-12-09 21:49:09'}\n",
      "{'file_path': 'imap/swe/l0/2024/05/imap_swe_l0_raw_20240510_v011.pkts', 'instrument': 'swe', 'data_level': 'l0', 'descriptor': 'raw', 'start_date': '20240510', 'repointing': None, 'version': 'v011', 'extension': 'pkts', 'ingestion_date': '2024-12-11 20:13:33'}\n",
      "{'file_path': 'imap/swe/l0/2024/05/imap_swe_l0_raw_20240510_v012.pkts', 'instrument': 'swe', 'data_level': 'l0', 'descriptor': 'raw', 'start_date': '20240510', 'repointing': None, 'version': 'v012', 'extension': 'pkts', 'ingestion_date': '2024-12-16 22:50:52'}\n",
      "{'file_path': 'imap/swe/l0/2024/10/imap_swe_l0_raw_20241018_v000.pkts', 'instrument': 'swe', 'data_level': 'l0', 'descriptor': 'raw', 'start_date': '20241018', 'repointing': None, 'version': 'v000', 'extension': 'pkts', 'ingestion_date': '2024-10-28 23:05:10'}\n",
      "{'file_path': 'imap/swe/l0/2024/11/imap_swe_l0_raw_20241122_v000.pkts', 'instrument': 'swe', 'data_level': 'l0', 'descriptor': 'raw', 'start_date': '20241122', 'repointing': None, 'version': 'v000', 'extension': 'pkts', 'ingestion_date': '2024-12-13 01:40:14'}\n",
      "{'file_path': 'imap/swe/l0/2024/11/imap_swe_l0_raw_20241122_v001.pkts', 'instrument': 'swe', 'data_level': 'l0', 'descriptor': 'raw', 'start_date': '20241122', 'repointing': None, 'version': 'v001', 'extension': 'pkts', 'ingestion_date': '2025-01-29 21:14:01'}\n",
      "{'file_path': 'imap/swe/l0/2024/12/imap_swe_l0_raw_20241212_v000.pkts', 'instrument': 'swe', 'data_level': 'l0', 'descriptor': 'raw', 'start_date': '20241212', 'repointing': None, 'version': 'v000', 'extension': 'pkts', 'ingestion_date': '2025-01-30 19:50:17'}\n"
     ]
    }
   ],
   "source": [
    "results = imap_data_access.query(instrument=\"swe\", data_level=\"l0\")\n",
    "for result in results:\n",
    "    print(result)"
   ]
  },
  {
   "cell_type": "markdown",
   "id": "07e38243",
   "metadata": {
    "collapsed": false,
    "jupyter": {
     "outputs_hidden": false
    },
    "pycharm": {
     "name": "#%% md\n"
    }
   },
   "source": [
    "#### Download a file"
   ]
  },
  {
   "cell_type": "code",
   "execution_count": 20,
   "id": "4ede07e0",
   "metadata": {
    "collapsed": false,
    "jupyter": {
     "outputs_hidden": false
    },
    "pycharm": {
     "name": "#%%\n"
    }
   },
   "outputs": [
    {
     "name": "stdout",
     "output_type": "stream",
     "text": [
      "/Users/mabo8927/imap_data/imap/swe/l0/2024/12/imap_swe_l0_raw_20241212_v000.pkts\n"
     ]
    }
   ],
   "source": [
    "file_path = imap_data_access.download(\"imap_swe_l0_raw_20241212_v000.pkts\")\n",
    "print(file_path)"
   ]
  },
  {
   "cell_type": "markdown",
   "id": "0cc4dc50",
   "metadata": {
    "collapsed": false,
    "jupyter": {
     "outputs_hidden": false
    },
    "pycharm": {
     "name": "#%% md\n"
    }
   },
   "source": [
    "#### Upload a file"
   ]
  },
  {
   "cell_type": "code",
   "execution_count": 21,
   "id": "48d97d90",
   "metadata": {
    "collapsed": false,
    "jupyter": {
     "outputs_hidden": false
    },
    "pycharm": {
     "name": "#%%\n"
    }
   },
   "outputs": [],
   "source": [
    "imap_data_access.upload(\n",
    "    f\"{Path.home()}/imap_data/imap_codice_l0_raw_20250223_v001.pkts\"\n",
    ")"
   ]
  },
  {
   "cell_type": "code",
   "execution_count": 22,
   "id": "e88d7885",
   "metadata": {
    "collapsed": false,
    "jupyter": {
     "outputs_hidden": false
    },
    "pycharm": {
     "name": "#%%\n"
    }
   },
   "outputs": [
    {
     "name": "stdout",
     "output_type": "stream",
     "text": [
      "[{'file_path': 'imap/codice/l0/2025/02/imap_codice_l0_raw_20250223_v001.pkts', 'instrument': 'codice', 'data_level': 'l0', 'descriptor': 'raw', 'start_date': '20250223', 'repointing': None, 'version': 'v001', 'extension': 'pkts', 'ingestion_date': '2025-02-18 21:12:45'}]\n"
     ]
    }
   ],
   "source": [
    "# Check to see if file was uploaded\n",
    "results = imap_data_access.query(\n",
    "    instrument=\"codice\", descriptor=\"raw\", start_date=\"20250223\", end_date=\"20250223\"\n",
    ")\n",
    "print(results)"
   ]
  },
  {
   "cell_type": "markdown",
   "id": "819ccdd3",
   "metadata": {
    "collapsed": false,
    "jupyter": {
     "outputs_hidden": false
    },
    "pycharm": {
     "name": "#%% md\n"
    }
   },
   "source": [
    "#### Bonus: validate/construct a file path"
   ]
  },
  {
   "cell_type": "code",
   "execution_count": 23,
   "id": "e9e10981",
   "metadata": {
    "collapsed": false,
    "jupyter": {
     "outputs_hidden": false
    },
    "pycharm": {
     "name": "#%%\n"
    }
   },
   "outputs": [
    {
     "name": "stdout",
     "output_type": "stream",
     "text": [
      "20250502\n",
      "raw\n",
      "/Users/mabo8927/imap_data/imap/mag/l0/2025/05/imap_mag_l0_raw_20250502_v001.pkts\n"
     ]
    }
   ],
   "source": [
    "science_file = imap_data_access.ScienceFilePath(\"imap_mag_l0_raw_20250502_v001.pkts\")\n",
    "print(science_file.start_date)\n",
    "print(science_file.descriptor)\n",
    "\n",
    "filepath = science_file.construct_path()\n",
    "print(filepath)"
   ]
  },
  {
   "cell_type": "markdown",
   "id": "cfee3b10",
   "metadata": {
    "collapsed": false,
    "jupyter": {
     "outputs_hidden": false
    },
    "pycharm": {
     "name": "#%% md\n"
    }
   },
   "source": [
    "## Future work\n",
    "\n",
    "The SDC continues to develop the API for the greater needs of the IMAP community. We currently have plans to add the following features (subject to change):\n",
    "\n",
    "- Add support for uploading and querying ancillary files\n",
    "- Add support for uploading, downloading, and querying SPICE files\n",
    "- Add query parameter for querying based on repointing\n",
    "- Add `today` as a query parameter to return list of files that were acquired in the last 24 hours\n",
    "- Add `days_ago=N` as a query parameter to return a list of file that were acquired in the last `N` days\n",
    "- Create a production instance of the API"
   ]
  },
  {
   "cell_type": "markdown",
   "id": "bf4766b9",
   "metadata": {
    "collapsed": false,
    "jupyter": {
     "outputs_hidden": false
    },
    "pycharm": {
     "name": "#%% md\n"
    }
   },
   "source": [
    "## Ideas/requests for other API features or endpoints?\n",
    "\n",
    "We would like to gather user feedback on how we could improve or expand upon the existing API. What API endpoints could we add? What kind of information would be useful to get from the API?\n",
    "\n",
    "For feature requests and bug reports, please open a [new issue](https://github.com/IMAP-Science-Operations-Center/imap-data-access/issues/new) in the Data Access API repository."
   ]
  }
 ],
 "metadata": {
  "kernelspec": {
   "display_name": "Python 3 (ipykernel)",
   "language": "python",
   "name": "python3"
  },
  "language_info": {
   "codemirror_mode": {
    "name": "ipython",
    "version": 3
   },
   "file_extension": ".py",
   "mimetype": "text/x-python",
   "name": "python",
   "nbconvert_exporter": "python",
   "pygments_lexer": "ipython3",
   "version": "3.9.6"
  }
 },
 "nbformat": 4,
 "nbformat_minor": 5
}