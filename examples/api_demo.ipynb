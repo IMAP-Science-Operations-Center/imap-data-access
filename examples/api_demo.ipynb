{
 "cells": [
  {
   "cell_type": "markdown",
   "source": [
    "# IMAP Data Access API\n",
    "\n",
    "The IMAP SDC provides a Data Access API to **query** and **download** data. There are three ways to use the API:\n",
    "\n",
    "1. The `imap-data-access` command-line utility\n",
    "2. The `imap_data_access` python package\n",
    "3. Calls to the REST API directly\n",
    "\n",
    "This notebook provies instructions and examples of how to use the command-line utility and python package. *For information on how to use the REST API directly, see https://imap-processing.readthedocs.io/en/latest/data-access/index.html*"
   ],
   "metadata": {
    "collapsed": false,
    "pycharm": {
     "name": "#%% md\n"
    }
   }
  },
  {
   "cell_type": "markdown",
   "source": [
    "## Data Directory\n",
    "\n",
    "Before using the API, it is important to note that the folder structure for data files within the IMAP SDC is rigidly defined, so the data access will mimic that structure to make sure all data is stored in the same heirarchical structure as the SDC. This will enable seamless transition between a user's local system and the SDC.\n",
    "\n",
    "The directory structure is as follows:\n",
    "\n",
    "```\n",
    "<IMAP_DATA_DIR>/\n",
    "  imap/\n",
    "    <instrument>/\n",
    "      <data_level>/\n",
    "        <year>/\n",
    "          <month>/\n",
    "            <filename>\n",
    "```\n",
    "\n",
    "for example:\n",
    "\n",
    "```\n",
    "/data/\n",
    "  imap/\n",
    "    swe/\n",
    "      l0/\n",
    "        2024/\n",
    "          01/\n",
    "            imap_swe_l0_sci_20240105_v001.pkts\n",
    "```\n",
    "\n",
    "By default, the `<IMAP_DATA_DIR>` is the user's current working directory. However, this can be changed by setting the `IMAP_DATA_DIR` environment variable:"
   ],
   "metadata": {
    "collapsed": false,
    "pycharm": {
     "name": "#%% md\n"
    }
   }
  },
  {
   "cell_type": "code",
   "execution_count": null,
   "outputs": [],
   "source": [
    "!mkdir -p /Users/mabo8927/imap_data/\n",
    "%env IMAP_DATA_DIR=/Users/mabo8927/imap_data\n",
    "!echo $IMAP_DATA_DIR"
   ],
   "metadata": {
    "collapsed": false,
    "pycharm": {
     "name": "#%%\n"
    }
   }
  },
  {
   "cell_type": "markdown",
   "source": [
    "## Installation\n",
    "\n",
    "The API can be installed via `pip`:"
   ],
   "metadata": {
    "collapsed": false,
    "pycharm": {
     "name": "#%% md\n"
    }
   }
  },
  {
   "cell_type": "code",
   "execution_count": null,
   "outputs": [],
   "source": [
    "!pip install imap-data-access\n",
    "!imap-data-access --version"
   ],
   "metadata": {
    "collapsed": false,
    "pycharm": {
     "name": "#%%\n"
    }
   }
  },
  {
   "cell_type": "markdown",
   "source": [
    "We leave it as an exercise to the user to install the package into their software environment of choice."
   ],
   "metadata": {
    "collapsed": false,
    "pycharm": {
     "name": "#%% md\n"
    }
   }
  },
  {
   "cell_type": "markdown",
   "source": [
    "## Command Line Utility\n",
    "\n",
    "The following section shows examples of how to use the API via the `imap-data-access` command line utility."
   ],
   "metadata": {
    "collapsed": false,
    "pycharm": {
     "name": "#%% md\n"
    }
   }
  },
  {
   "cell_type": "code",
   "execution_count": null,
   "outputs": [],
   "source": [
    "# Show help documentation\n",
    "!imap-data-access -h"
   ],
   "metadata": {
    "collapsed": false,
    "pycharm": {
     "name": "#%%\n"
    }
   }
  },
  {
   "cell_type": "markdown",
   "source": [
    "#### Querying"
   ],
   "metadata": {
    "collapsed": false,
    "pycharm": {
     "name": "#%% md\n"
    }
   }
  },
  {
   "cell_type": "code",
   "execution_count": null,
   "outputs": [],
   "source": [
    "# Show query help documentation\n",
    "!imap-data-access query -h"
   ],
   "metadata": {
    "collapsed": false,
    "pycharm": {
     "name": "#%%\n"
    }
   }
  },
  {
   "cell_type": "code",
   "execution_count": null,
   "outputs": [],
   "source": [
    "# Query with a single parameter\n",
    "!imap-data-access query --instrument swe"
   ],
   "metadata": {
    "collapsed": false,
    "pycharm": {
     "name": "#%%\n"
    }
   }
  },
  {
   "cell_type": "code",
   "execution_count": null,
   "outputs": [],
   "source": [
    "# Query with multiple parameters\n",
    "!imap-data-access query --instrument swe --data-level l1b --start-date 20240510 --end-date 20240510"
   ],
   "metadata": {
    "collapsed": false,
    "pycharm": {
     "name": "#%%\n"
    }
   }
  },
  {
   "cell_type": "code",
   "execution_count": null,
   "outputs": [],
   "source": [
    "# Change the output format\n",
    "!imap-data-access query --instrument swe --data-level l1b --start-date 20240510 --end-date 20240510 --output-format json"
   ],
   "metadata": {
    "collapsed": false,
    "pycharm": {
     "name": "#%%\n"
    }
   }
  },
  {
   "cell_type": "code",
   "execution_count": null,
   "outputs": [],
   "source": [
    "# Query based on a filename\n",
    "!imap-data-access query --filename imap_swe_l1b_sci_20240510_v012.cdf"
   ],
   "metadata": {
    "collapsed": false,
    "pycharm": {
     "name": "#%%\n"
    }
   }
  },
  {
   "cell_type": "markdown",
   "source": [
    "#### Downloading"
   ],
   "metadata": {
    "collapsed": false,
    "pycharm": {
     "name": "#%% md\n"
    }
   }
  },
  {
   "cell_type": "code",
   "execution_count": null,
   "outputs": [],
   "source": [
    "# Show download help documentation\n",
    "!imap-data-access download -h"
   ],
   "metadata": {
    "collapsed": false,
    "pycharm": {
     "name": "#%%\n"
    }
   }
  },
  {
   "cell_type": "markdown",
   "source": [
    "##### Science Files"
   ],
   "metadata": {
    "collapsed": false,
    "pycharm": {
     "name": "#%% md\n"
    }
   }
  },
  {
   "cell_type": "code",
   "execution_count": null,
   "outputs": [],
   "source": [
    "# Download a science file\n",
    "!imap-data-access download imap_swe_l1b_sci_20240510_v012.cdf\n",
    "\n",
    "# Check to see that the file exists\n",
    "!ls -lt $IMAP_DATA_DIR/imap/swe/l1b/2024/05/imap_swe_l1b_sci_20240510_v012.cdf"
   ],
   "metadata": {
    "collapsed": false,
    "pycharm": {
     "name": "#%%\n"
    }
   }
  },
  {
   "cell_type": "markdown",
   "source": [
    "##### Ancillary Files"
   ],
   "metadata": {
    "collapsed": false,
    "pycharm": {
     "name": "#%% md\n"
    }
   }
  },
  {
   "cell_type": "code",
   "execution_count": null,
   "outputs": [],
   "source": [
    "# Download an ancillary file\n",
    "!imap-data-access download imap_mag_calibration_20240229_v001.cdf\n",
    "\n",
    "# Check to see that the file exists\n",
    "!ls -lt $IMAP_DATA_DIR/imap/ancillary/mag/imap_mag_calibration_20240229_v001.cdf"
   ],
   "metadata": {
    "collapsed": false,
    "pycharm": {
     "name": "#%%\n"
    }
   }
  },
  {
   "cell_type": "markdown",
   "source": [
    "## Python Package\n",
    "The following section shows examples of how to use the API via the `imap_data_access` Python package."
   ],
   "metadata": {
    "collapsed": false,
    "pycharm": {
     "name": "#%% md\n"
    }
   }
  },
  {
   "cell_type": "code",
   "execution_count": null,
   "outputs": [],
   "source": [
    "# import the package\n",
    "import imap_data_access"
   ],
   "metadata": {
    "collapsed": false,
    "pycharm": {
     "name": "#%%\n"
    }
   }
  },
  {
   "cell_type": "markdown",
   "source": [
    "The `<IMAP_DATA_DIR>` can be set via the `config` dictionary:"
   ],
   "metadata": {
    "collapsed": false,
    "pycharm": {
     "name": "#%% md\n"
    }
   }
  },
  {
   "cell_type": "code",
   "execution_count": null,
   "outputs": [],
   "source": [
    "from pathlib import Path\n",
    "\n",
    "imap_data_access.config[\"DATA_DIR\"] = Path.home() / \"imap_data\""
   ],
   "metadata": {
    "collapsed": false,
    "pycharm": {
     "name": "#%%\n"
    }
   }
  },
  {
   "cell_type": "markdown",
   "source": [
    "#### Querying"
   ],
   "metadata": {
    "collapsed": false,
    "pycharm": {
     "name": "#%% md\n"
    }
   }
  },
  {
   "cell_type": "code",
   "execution_count": null,
   "outputs": [],
   "source": [
    "results = imap_data_access.query(instrument=\"swe\", data_level=\"l0\")\n",
    "for result in results:\n",
    "    print(result)"
   ],
   "metadata": {
    "collapsed": false,
    "pycharm": {
     "name": "#%%\n"
    }
   }
  },
  {
   "cell_type": "markdown",
   "source": [
    "#### Download a file"
   ],
   "metadata": {
    "collapsed": false,
    "pycharm": {
     "name": "#%% md\n"
    }
   }
  },
  {
   "cell_type": "code",
   "execution_count": null,
   "outputs": [],
   "source": [
    "file_path = imap_data_access.download(\"imap_swe_l0_raw_20241212_v000.pkts\")\n",
    "print(file_path)"
   ],
   "metadata": {
    "collapsed": false,
    "pycharm": {
     "name": "#%%\n"
    }
   }
  },
  {
   "cell_type": "markdown",
   "source": [
    "#### Bonus: validate/construct a file path"
   ],
   "metadata": {
    "collapsed": false,
    "pycharm": {
     "name": "#%% md\n"
    }
   }
  },
  {
   "cell_type": "code",
   "execution_count": null,
   "outputs": [],
   "source": [
    "science_file = imap_data_access.ScienceFilePath(\"imap_mag_l0_raw_20250502_v001.pkts\")\n",
    "print(science_file.start_date)\n",
    "print(science_file.descriptor)\n",
    "\n",
    "filepath = science_file.construct_path()\n",
    "print(filepath)"
   ],
   "metadata": {
    "collapsed": false,
    "pycharm": {
     "name": "#%%\n"
    }
   }
  },
  {
   "cell_type": "markdown",
   "source": [
    "## Future work\n",
    "\n",
    "The SDC continues to develop the API for the greater needs of the IMAP community. We currently have plans to add the following features (subject to change):\n",
    "\n",
    "- Add support for querying ancillary files\n",
    "- Add support for querying and downloading SPICE files\n",
    "- Add query parameter for querying based on repointing\n",
    "- Add `today` as a query parameter to return list of files that were acquired in the last 24 hours\n",
    "- Add `days_ago=N` as a query parameter to return a list of file that were acquired in the last `N` days\n",
    "- Create a production instance of the API"
   ],
   "metadata": {
    "collapsed": false,
    "pycharm": {
     "name": "#%% md\n"
    }
   }
  }
 ],
 "metadata": {
  "kernelspec": {
   "display_name": "Python 3 (ipykernel)",
   "language": "python",
   "name": "python3"
  },
  "language_info": {
   "codemirror_mode": {
    "name": "ipython",
    "version": 3
   },
   "file_extension": ".py",
   "mimetype": "text/x-python",
   "name": "python",
   "nbconvert_exporter": "python",
   "pygments_lexer": "ipython3",
   "version": "3.9.6"
  }
 },
 "nbformat": 4,
 "nbformat_minor": 5
}